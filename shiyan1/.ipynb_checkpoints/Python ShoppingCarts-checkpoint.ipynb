{
 "cells": [
  {
   "cell_type": "code",
   "execution_count": 7,
   "id": "1529a4ef",
   "metadata": {
    "scrolled": false
   },
   "outputs": [
    {
     "name": "stdout",
     "output_type": "stream",
     "text": [
      "Defaulting to user installation because normal site-packages is not writeable\n",
      "Looking in indexes: https://pypi.tuna.tsinghua.edu.cn/simple\n",
      "Requirement already satisfied: mlxtend in c:\\users\\jasonl\\appdata\\roaming\\python\\python311\\site-packages (0.23.1)\n",
      "Requirement already satisfied: pandas in d:\\anaconda3\\lib\\site-packages (2.0.3)\n",
      "Requirement already satisfied: scipy>=1.2.1 in d:\\anaconda3\\lib\\site-packages (from mlxtend) (1.11.1)\n",
      "Requirement already satisfied: numpy>=1.16.2 in d:\\anaconda3\\lib\\site-packages (from mlxtend) (1.24.3)\n",
      "Requirement already satisfied: scikit-learn>=1.0.2 in d:\\anaconda3\\lib\\site-packages (from mlxtend) (1.3.0)\n",
      "Requirement already satisfied: matplotlib>=3.0.0 in d:\\anaconda3\\lib\\site-packages (from mlxtend) (3.7.2)\n",
      "Requirement already satisfied: joblib>=0.13.2 in d:\\anaconda3\\lib\\site-packages (from mlxtend) (1.2.0)\n",
      "Requirement already satisfied: python-dateutil>=2.8.2 in d:\\anaconda3\\lib\\site-packages (from pandas) (2.8.2)\n",
      "Requirement already satisfied: pytz>=2020.1 in d:\\anaconda3\\lib\\site-packages (from pandas) (2023.3.post1)\n",
      "Requirement already satisfied: tzdata>=2022.1 in d:\\anaconda3\\lib\\site-packages (from pandas) (2023.3)\n",
      "Requirement already satisfied: contourpy>=1.0.1 in d:\\anaconda3\\lib\\site-packages (from matplotlib>=3.0.0->mlxtend) (1.0.5)\n",
      "Requirement already satisfied: cycler>=0.10 in d:\\anaconda3\\lib\\site-packages (from matplotlib>=3.0.0->mlxtend) (0.11.0)\n",
      "Requirement already satisfied: fonttools>=4.22.0 in d:\\anaconda3\\lib\\site-packages (from matplotlib>=3.0.0->mlxtend) (4.25.0)\n",
      "Requirement already satisfied: kiwisolver>=1.0.1 in d:\\anaconda3\\lib\\site-packages (from matplotlib>=3.0.0->mlxtend) (1.4.4)\n",
      "Requirement already satisfied: packaging>=20.0 in d:\\anaconda3\\lib\\site-packages (from matplotlib>=3.0.0->mlxtend) (23.1)\n",
      "Requirement already satisfied: pillow>=6.2.0 in d:\\anaconda3\\lib\\site-packages (from matplotlib>=3.0.0->mlxtend) (9.4.0)\n",
      "Requirement already satisfied: pyparsing<3.1,>=2.3.1 in d:\\anaconda3\\lib\\site-packages (from matplotlib>=3.0.0->mlxtend) (3.0.9)\n",
      "Requirement already satisfied: six>=1.5 in d:\\anaconda3\\lib\\site-packages (from python-dateutil>=2.8.2->pandas) (1.16.0)\n",
      "Requirement already satisfied: threadpoolctl>=2.0.0 in d:\\anaconda3\\lib\\site-packages (from scikit-learn>=1.0.2->mlxtend) (2.2.0)\n",
      "Note: you may need to restart the kernel to use updated packages.\n"
     ]
    }
   ],
   "source": [
    "pip install -i https://pypi.tuna.tsinghua.edu.cn/simple mlxtend pandas"
   ]
  },
  {
   "cell_type": "code",
   "execution_count": 1,
   "id": "86213428",
   "metadata": {},
   "outputs": [],
   "source": [
    "import pandas as pd\n",
    "import numpy as np\n",
    "from mlxtend.frequent_patterns import apriori\n",
    "from mlxtend.frequent_patterns import association_rules #导入包"
   ]
  },
  {
   "cell_type": "code",
   "execution_count": 6,
   "id": "d368d7dc",
   "metadata": {
    "scrolled": true
   },
   "outputs": [
    {
     "data": {
      "text/html": [
       "<div>\n",
       "<style scoped>\n",
       "    .dataframe tbody tr th:only-of-type {\n",
       "        vertical-align: middle;\n",
       "    }\n",
       "\n",
       "    .dataframe tbody tr th {\n",
       "        vertical-align: top;\n",
       "    }\n",
       "\n",
       "    .dataframe thead th {\n",
       "        text-align: right;\n",
       "    }\n",
       "</style>\n",
       "<table border=\"1\" class=\"dataframe\">\n",
       "  <thead>\n",
       "    <tr style=\"text-align: right;\">\n",
       "      <th></th>\n",
       "      <th>InvoiceNo</th>\n",
       "      <th>StockCode</th>\n",
       "      <th>Description</th>\n",
       "      <th>Quantity</th>\n",
       "      <th>InvoiceDate</th>\n",
       "      <th>UnitPrice</th>\n",
       "      <th>CustomerID</th>\n",
       "      <th>Country</th>\n",
       "    </tr>\n",
       "  </thead>\n",
       "  <tbody>\n",
       "    <tr>\n",
       "      <th>0</th>\n",
       "      <td>536365</td>\n",
       "      <td>85123A</td>\n",
       "      <td>WHITE HANGING HEART T-LIGHT HOLDER</td>\n",
       "      <td>6</td>\n",
       "      <td>2010-12-01 08:26:00</td>\n",
       "      <td>2.55</td>\n",
       "      <td>17850.0</td>\n",
       "      <td>United Kingdom</td>\n",
       "    </tr>\n",
       "    <tr>\n",
       "      <th>1</th>\n",
       "      <td>536365</td>\n",
       "      <td>71053</td>\n",
       "      <td>WHITE METAL LANTERN</td>\n",
       "      <td>6</td>\n",
       "      <td>2010-12-01 08:26:00</td>\n",
       "      <td>3.39</td>\n",
       "      <td>17850.0</td>\n",
       "      <td>United Kingdom</td>\n",
       "    </tr>\n",
       "    <tr>\n",
       "      <th>2</th>\n",
       "      <td>536365</td>\n",
       "      <td>84406B</td>\n",
       "      <td>CREAM CUPID HEARTS COAT HANGER</td>\n",
       "      <td>8</td>\n",
       "      <td>2010-12-01 08:26:00</td>\n",
       "      <td>2.75</td>\n",
       "      <td>17850.0</td>\n",
       "      <td>United Kingdom</td>\n",
       "    </tr>\n",
       "    <tr>\n",
       "      <th>3</th>\n",
       "      <td>536365</td>\n",
       "      <td>84029G</td>\n",
       "      <td>KNITTED UNION FLAG HOT WATER BOTTLE</td>\n",
       "      <td>6</td>\n",
       "      <td>2010-12-01 08:26:00</td>\n",
       "      <td>3.39</td>\n",
       "      <td>17850.0</td>\n",
       "      <td>United Kingdom</td>\n",
       "    </tr>\n",
       "    <tr>\n",
       "      <th>4</th>\n",
       "      <td>536365</td>\n",
       "      <td>84029E</td>\n",
       "      <td>RED WOOLLY HOTTIE WHITE HEART.</td>\n",
       "      <td>6</td>\n",
       "      <td>2010-12-01 08:26:00</td>\n",
       "      <td>3.39</td>\n",
       "      <td>17850.0</td>\n",
       "      <td>United Kingdom</td>\n",
       "    </tr>\n",
       "  </tbody>\n",
       "</table>\n",
       "</div>"
      ],
      "text/plain": [
       "  InvoiceNo StockCode                          Description  Quantity  \\\n",
       "0    536365    85123A   WHITE HANGING HEART T-LIGHT HOLDER         6   \n",
       "1    536365     71053                  WHITE METAL LANTERN         6   \n",
       "2    536365    84406B       CREAM CUPID HEARTS COAT HANGER         8   \n",
       "3    536365    84029G  KNITTED UNION FLAG HOT WATER BOTTLE         6   \n",
       "4    536365    84029E       RED WOOLLY HOTTIE WHITE HEART.         6   \n",
       "\n",
       "          InvoiceDate  UnitPrice  CustomerID         Country  \n",
       "0 2010-12-01 08:26:00       2.55     17850.0  United Kingdom  \n",
       "1 2010-12-01 08:26:00       3.39     17850.0  United Kingdom  \n",
       "2 2010-12-01 08:26:00       2.75     17850.0  United Kingdom  \n",
       "3 2010-12-01 08:26:00       3.39     17850.0  United Kingdom  \n",
       "4 2010-12-01 08:26:00       3.39     17850.0  United Kingdom  "
      ]
     },
     "execution_count": 6,
     "metadata": {},
     "output_type": "execute_result"
    }
   ],
   "source": [
    "df_Retails = pd.read_excel('Online Retail.xlsx') #数据读入\n",
    "df_Retails.head()"
   ]
  },
  {
   "cell_type": "code",
   "execution_count": 7,
   "id": "d9cf4ce0",
   "metadata": {},
   "outputs": [
    {
     "data": {
      "text/plain": [
       "(541909, 8)"
      ]
     },
     "execution_count": 7,
     "metadata": {},
     "output_type": "execute_result"
    }
   ],
   "source": [
    "df_Retails.shape #调用shape属性查看数据框df_Retails的形状"
   ]
  },
  {
   "cell_type": "code",
   "execution_count": 8,
   "id": "cff9c0ec",
   "metadata": {},
   "outputs": [
    {
     "data": {
      "text/plain": [
       "Index(['InvoiceNo', 'StockCode', 'Description', 'Quantity', 'InvoiceDate',\n",
       "       'UnitPrice', 'CustomerID', 'Country'],\n",
       "      dtype='object')"
      ]
     },
     "execution_count": 8,
     "metadata": {},
     "output_type": "execute_result"
    }
   ],
   "source": [
    "df_Retails.columns #查看列名称"
   ]
  },
  {
   "cell_type": "code",
   "execution_count": 9,
   "id": "bb15e5ce",
   "metadata": {},
   "outputs": [
    {
     "data": {
      "text/html": [
       "<div>\n",
       "<style scoped>\n",
       "    .dataframe tbody tr th:only-of-type {\n",
       "        vertical-align: middle;\n",
       "    }\n",
       "\n",
       "    .dataframe tbody tr th {\n",
       "        vertical-align: top;\n",
       "    }\n",
       "\n",
       "    .dataframe thead th {\n",
       "        text-align: right;\n",
       "    }\n",
       "</style>\n",
       "<table border=\"1\" class=\"dataframe\">\n",
       "  <thead>\n",
       "    <tr style=\"text-align: right;\">\n",
       "      <th></th>\n",
       "      <th>Quantity</th>\n",
       "      <th>InvoiceDate</th>\n",
       "      <th>UnitPrice</th>\n",
       "      <th>CustomerID</th>\n",
       "    </tr>\n",
       "  </thead>\n",
       "  <tbody>\n",
       "    <tr>\n",
       "      <th>count</th>\n",
       "      <td>541909.000000</td>\n",
       "      <td>541909</td>\n",
       "      <td>541909.000000</td>\n",
       "      <td>406829.000000</td>\n",
       "    </tr>\n",
       "    <tr>\n",
       "      <th>mean</th>\n",
       "      <td>9.552250</td>\n",
       "      <td>2011-07-04 13:34:57.156386048</td>\n",
       "      <td>4.611114</td>\n",
       "      <td>15287.690570</td>\n",
       "    </tr>\n",
       "    <tr>\n",
       "      <th>min</th>\n",
       "      <td>-80995.000000</td>\n",
       "      <td>2010-12-01 08:26:00</td>\n",
       "      <td>-11062.060000</td>\n",
       "      <td>12346.000000</td>\n",
       "    </tr>\n",
       "    <tr>\n",
       "      <th>25%</th>\n",
       "      <td>1.000000</td>\n",
       "      <td>2011-03-28 11:34:00</td>\n",
       "      <td>1.250000</td>\n",
       "      <td>13953.000000</td>\n",
       "    </tr>\n",
       "    <tr>\n",
       "      <th>50%</th>\n",
       "      <td>3.000000</td>\n",
       "      <td>2011-07-19 17:17:00</td>\n",
       "      <td>2.080000</td>\n",
       "      <td>15152.000000</td>\n",
       "    </tr>\n",
       "    <tr>\n",
       "      <th>75%</th>\n",
       "      <td>10.000000</td>\n",
       "      <td>2011-10-19 11:27:00</td>\n",
       "      <td>4.130000</td>\n",
       "      <td>16791.000000</td>\n",
       "    </tr>\n",
       "    <tr>\n",
       "      <th>max</th>\n",
       "      <td>80995.000000</td>\n",
       "      <td>2011-12-09 12:50:00</td>\n",
       "      <td>38970.000000</td>\n",
       "      <td>18287.000000</td>\n",
       "    </tr>\n",
       "    <tr>\n",
       "      <th>std</th>\n",
       "      <td>218.081158</td>\n",
       "      <td>NaN</td>\n",
       "      <td>96.759853</td>\n",
       "      <td>1713.600303</td>\n",
       "    </tr>\n",
       "  </tbody>\n",
       "</table>\n",
       "</div>"
      ],
      "text/plain": [
       "            Quantity                    InvoiceDate      UnitPrice  \\\n",
       "count  541909.000000                         541909  541909.000000   \n",
       "mean        9.552250  2011-07-04 13:34:57.156386048       4.611114   \n",
       "min    -80995.000000            2010-12-01 08:26:00  -11062.060000   \n",
       "25%         1.000000            2011-03-28 11:34:00       1.250000   \n",
       "50%         3.000000            2011-07-19 17:17:00       2.080000   \n",
       "75%        10.000000            2011-10-19 11:27:00       4.130000   \n",
       "max     80995.000000            2011-12-09 12:50:00   38970.000000   \n",
       "std       218.081158                            NaN      96.759853   \n",
       "\n",
       "          CustomerID  \n",
       "count  406829.000000  \n",
       "mean    15287.690570  \n",
       "min     12346.000000  \n",
       "25%     13953.000000  \n",
       "50%     15152.000000  \n",
       "75%     16791.000000  \n",
       "max     18287.000000  \n",
       "std      1713.600303  "
      ]
     },
     "execution_count": 9,
     "metadata": {},
     "output_type": "execute_result"
    }
   ],
   "source": [
    "df_Retails.describe() #对数据框df_Retails进行探索性分析"
   ]
  },
  {
   "cell_type": "code",
   "execution_count": 10,
   "id": "f4124e0a",
   "metadata": {},
   "outputs": [
    {
     "name": "stdout",
     "output_type": "stream",
     "text": [
      "<class 'pandas.core.frame.DataFrame'>\n",
      "RangeIndex: 541909 entries, 0 to 541908\n",
      "Data columns (total 8 columns):\n",
      " #   Column       Non-Null Count   Dtype         \n",
      "---  ------       --------------   -----         \n",
      " 0   InvoiceNo    541909 non-null  object        \n",
      " 1   StockCode    541909 non-null  object        \n",
      " 2   Description  540455 non-null  object        \n",
      " 3   Quantity     541909 non-null  int64         \n",
      " 4   InvoiceDate  541909 non-null  datetime64[ns]\n",
      " 5   UnitPrice    541909 non-null  float64       \n",
      " 6   CustomerID   406829 non-null  float64       \n",
      " 7   Country      541909 non-null  object        \n",
      "dtypes: datetime64[ns](1), float64(2), int64(1), object(4)\n",
      "memory usage: 33.1+ MB\n"
     ]
    }
   ],
   "source": [
    "df_Retails.info()"
   ]
  },
  {
   "cell_type": "code",
   "execution_count": 11,
   "id": "f5b6c86c",
   "metadata": {},
   "outputs": [
    {
     "data": {
      "text/plain": [
       "array(['United Kingdom', 'France', 'Australia', 'Netherlands', 'Germany',\n",
       "       'Norway', 'EIRE', 'Switzerland', 'Spain', 'Poland', 'Portugal',\n",
       "       'Italy', 'Belgium', 'Lithuania', 'Japan', 'Iceland',\n",
       "       'Channel Islands', 'Denmark', 'Cyprus', 'Sweden', 'Austria',\n",
       "       'Israel', 'Finland', 'Bahrain', 'Greece', 'Hong Kong', 'Singapore',\n",
       "       'Lebanon', 'United Arab Emirates', 'Saudi Arabia',\n",
       "       'Czech Republic', 'Canada', 'Unspecified', 'Brazil', 'USA',\n",
       "       'European Community', 'Malta', 'RSA'], dtype=object)"
      ]
     },
     "execution_count": 11,
     "metadata": {},
     "output_type": "execute_result"
    }
   ],
   "source": [
    "df_Retails.Country.unique()"
   ]
  },
  {
   "cell_type": "code",
   "execution_count": 12,
   "id": "38a9b5fb",
   "metadata": {},
   "outputs": [
    {
     "data": {
      "text/plain": [
       "InvoiceNo           0\n",
       "StockCode           0\n",
       "Description      1454\n",
       "Quantity            0\n",
       "InvoiceDate         0\n",
       "UnitPrice           0\n",
       "CustomerID     135080\n",
       "Country             0\n",
       "dtype: int64"
      ]
     },
     "execution_count": 12,
     "metadata": {},
     "output_type": "execute_result"
    }
   ],
   "source": [
    "df_Retails.isna().sum() #查看数据中是否有缺失值"
   ]
  },
  {
   "cell_type": "code",
   "execution_count": 18,
   "id": "ca026ba0",
   "metadata": {},
   "outputs": [],
   "source": [
    "df_Retails['Description'] = df_Retails['Description'].str.strip()"
   ]
  },
  {
   "cell_type": "code",
   "execution_count": 19,
   "id": "2fc37a9b",
   "metadata": {},
   "outputs": [
    {
     "data": {
      "text/plain": [
       "(541909, 8)"
      ]
     },
     "execution_count": 19,
     "metadata": {},
     "output_type": "execute_result"
    }
   ],
   "source": [
    "df_Retails.shape"
   ]
  },
  {
   "cell_type": "code",
   "execution_count": 20,
   "id": "96462cb1",
   "metadata": {},
   "outputs": [
    {
     "data": {
      "text/plain": [
       "1455"
      ]
     },
     "execution_count": 20,
     "metadata": {},
     "output_type": "execute_result"
    }
   ],
   "source": [
    "df_Retails['Description'].isna().sum()"
   ]
  },
  {
   "cell_type": "code",
   "execution_count": 21,
   "id": "5a738e78",
   "metadata": {},
   "outputs": [],
   "source": [
    "df_Retails.dropna(axis=0\n",
    "                 , subset=['Description']\n",
    "                 ,inplace=True) #去除所有的缺失值"
   ]
  },
  {
   "cell_type": "code",
   "execution_count": 22,
   "id": "8e1404f7",
   "metadata": {},
   "outputs": [
    {
     "data": {
      "text/plain": [
       "(540454, 8)"
      ]
     },
     "execution_count": 22,
     "metadata": {},
     "output_type": "execute_result"
    }
   ],
   "source": [
    "df_Retails.shape #再次查看数据集形状"
   ]
  },
  {
   "cell_type": "code",
   "execution_count": 23,
   "id": "d847b899",
   "metadata": {},
   "outputs": [
    {
     "data": {
      "text/plain": [
       "0"
      ]
     },
     "execution_count": 23,
     "metadata": {},
     "output_type": "execute_result"
    }
   ],
   "source": [
    "df_Retails['Description'].isna().sum() # 检查此时的数据集是否还有缺失值"
   ]
  },
  {
   "cell_type": "code",
   "execution_count": 26,
   "id": "765656cd",
   "metadata": {},
   "outputs": [],
   "source": [
    "df_Retails['InvoiceNo'] = df_Retails['InvoiceNo'].astype('str')\n",
    "df_Retails = df_Retails[~df_Retails['InvoiceNo'].str.contains('C')] #由于退货的订单由字母“C”开头，删除含有C字母的已取消订单"
   ]
  },
  {
   "cell_type": "code",
   "execution_count": 27,
   "id": "d15221e7",
   "metadata": {},
   "outputs": [
    {
     "data": {
      "text/plain": [
       "(531166, 8)"
      ]
     },
     "execution_count": 27,
     "metadata": {},
     "output_type": "execute_result"
    }
   ],
   "source": [
    "df_Retails.shape"
   ]
  },
  {
   "cell_type": "code",
   "execution_count": 29,
   "id": "fc669483",
   "metadata": {},
   "outputs": [
    {
     "data": {
      "text/plain": [
       "(457, 1695)"
      ]
     },
     "execution_count": 29,
     "metadata": {},
     "output_type": "execute_result"
    }
   ],
   "source": [
    "df_ShoppingCarts = (df_Retails[df_Retails['Country'] ==\"Germany\"]\n",
    "                    .groupby(['InvoiceNo','Description'])['Quantity']\n",
    "                    .sum()\n",
    "                    .unstack()\n",
    "                    .reset_index()\n",
    "                    .fillna(0)\n",
    "                    .set_index('InvoiceNo')) #只计算德国客户购买的商品的频繁项集及关联规则\n",
    "\n",
    "df_ShoppingCarts.shape"
   ]
  },
  {
   "cell_type": "code",
   "execution_count": 31,
   "id": "4e76b397",
   "metadata": {},
   "outputs": [
    {
     "data": {
      "text/html": [
       "<div>\n",
       "<style scoped>\n",
       "    .dataframe tbody tr th:only-of-type {\n",
       "        vertical-align: middle;\n",
       "    }\n",
       "\n",
       "    .dataframe tbody tr th {\n",
       "        vertical-align: top;\n",
       "    }\n",
       "\n",
       "    .dataframe thead th {\n",
       "        text-align: right;\n",
       "    }\n",
       "</style>\n",
       "<table border=\"1\" class=\"dataframe\">\n",
       "  <thead>\n",
       "    <tr style=\"text-align: right;\">\n",
       "      <th>Description</th>\n",
       "      <th>10 COLOUR SPACEBOY PEN</th>\n",
       "      <th>12 COLOURED PARTY BALLOONS</th>\n",
       "      <th>12 IVORY ROSE PEG PLACE SETTINGS</th>\n",
       "      <th>12 MESSAGE CARDS WITH ENVELOPES</th>\n",
       "      <th>12 PENCIL SMALL TUBE WOODLAND</th>\n",
       "      <th>12 PENCILS SMALL TUBE RED RETROSPOT</th>\n",
       "      <th>12 PENCILS SMALL TUBE SKULL</th>\n",
       "      <th>12 PENCILS TALL TUBE POSY</th>\n",
       "      <th>12 PENCILS TALL TUBE RED RETROSPOT</th>\n",
       "      <th>12 PENCILS TALL TUBE SKULLS</th>\n",
       "      <th>...</th>\n",
       "      <th>YULETIDE IMAGES GIFT WRAP SET</th>\n",
       "      <th>ZINC  HEART T-LIGHT HOLDER</th>\n",
       "      <th>ZINC  STAR T-LIGHT HOLDER</th>\n",
       "      <th>ZINC BOX SIGN HOME</th>\n",
       "      <th>ZINC FOLKART SLEIGH BELLS</th>\n",
       "      <th>ZINC HEART LATTICE T-LIGHT HOLDER</th>\n",
       "      <th>ZINC METAL HEART DECORATION</th>\n",
       "      <th>ZINC T-LIGHT HOLDER STAR LARGE</th>\n",
       "      <th>ZINC T-LIGHT HOLDER STARS SMALL</th>\n",
       "      <th>ZINC WILLIE WINKIE  CANDLE STICK</th>\n",
       "    </tr>\n",
       "    <tr>\n",
       "      <th>InvoiceNo</th>\n",
       "      <th></th>\n",
       "      <th></th>\n",
       "      <th></th>\n",
       "      <th></th>\n",
       "      <th></th>\n",
       "      <th></th>\n",
       "      <th></th>\n",
       "      <th></th>\n",
       "      <th></th>\n",
       "      <th></th>\n",
       "      <th></th>\n",
       "      <th></th>\n",
       "      <th></th>\n",
       "      <th></th>\n",
       "      <th></th>\n",
       "      <th></th>\n",
       "      <th></th>\n",
       "      <th></th>\n",
       "      <th></th>\n",
       "      <th></th>\n",
       "      <th></th>\n",
       "    </tr>\n",
       "  </thead>\n",
       "  <tbody>\n",
       "    <tr>\n",
       "      <th>536527</th>\n",
       "      <td>0.0</td>\n",
       "      <td>0.0</td>\n",
       "      <td>0.0</td>\n",
       "      <td>0.0</td>\n",
       "      <td>0.0</td>\n",
       "      <td>0.0</td>\n",
       "      <td>0.0</td>\n",
       "      <td>0.0</td>\n",
       "      <td>0.0</td>\n",
       "      <td>0.0</td>\n",
       "      <td>...</td>\n",
       "      <td>0.0</td>\n",
       "      <td>0.0</td>\n",
       "      <td>0.0</td>\n",
       "      <td>0.0</td>\n",
       "      <td>0.0</td>\n",
       "      <td>0.0</td>\n",
       "      <td>0.0</td>\n",
       "      <td>0.0</td>\n",
       "      <td>0.0</td>\n",
       "      <td>0.0</td>\n",
       "    </tr>\n",
       "    <tr>\n",
       "      <th>536840</th>\n",
       "      <td>0.0</td>\n",
       "      <td>0.0</td>\n",
       "      <td>0.0</td>\n",
       "      <td>0.0</td>\n",
       "      <td>0.0</td>\n",
       "      <td>0.0</td>\n",
       "      <td>0.0</td>\n",
       "      <td>0.0</td>\n",
       "      <td>0.0</td>\n",
       "      <td>0.0</td>\n",
       "      <td>...</td>\n",
       "      <td>0.0</td>\n",
       "      <td>0.0</td>\n",
       "      <td>0.0</td>\n",
       "      <td>0.0</td>\n",
       "      <td>0.0</td>\n",
       "      <td>0.0</td>\n",
       "      <td>0.0</td>\n",
       "      <td>0.0</td>\n",
       "      <td>0.0</td>\n",
       "      <td>0.0</td>\n",
       "    </tr>\n",
       "    <tr>\n",
       "      <th>536861</th>\n",
       "      <td>0.0</td>\n",
       "      <td>0.0</td>\n",
       "      <td>0.0</td>\n",
       "      <td>0.0</td>\n",
       "      <td>0.0</td>\n",
       "      <td>0.0</td>\n",
       "      <td>0.0</td>\n",
       "      <td>0.0</td>\n",
       "      <td>0.0</td>\n",
       "      <td>0.0</td>\n",
       "      <td>...</td>\n",
       "      <td>0.0</td>\n",
       "      <td>0.0</td>\n",
       "      <td>0.0</td>\n",
       "      <td>0.0</td>\n",
       "      <td>0.0</td>\n",
       "      <td>0.0</td>\n",
       "      <td>0.0</td>\n",
       "      <td>0.0</td>\n",
       "      <td>0.0</td>\n",
       "      <td>0.0</td>\n",
       "    </tr>\n",
       "    <tr>\n",
       "      <th>536967</th>\n",
       "      <td>0.0</td>\n",
       "      <td>0.0</td>\n",
       "      <td>0.0</td>\n",
       "      <td>0.0</td>\n",
       "      <td>0.0</td>\n",
       "      <td>0.0</td>\n",
       "      <td>0.0</td>\n",
       "      <td>0.0</td>\n",
       "      <td>0.0</td>\n",
       "      <td>0.0</td>\n",
       "      <td>...</td>\n",
       "      <td>0.0</td>\n",
       "      <td>0.0</td>\n",
       "      <td>0.0</td>\n",
       "      <td>0.0</td>\n",
       "      <td>0.0</td>\n",
       "      <td>0.0</td>\n",
       "      <td>0.0</td>\n",
       "      <td>0.0</td>\n",
       "      <td>0.0</td>\n",
       "      <td>0.0</td>\n",
       "    </tr>\n",
       "    <tr>\n",
       "      <th>536983</th>\n",
       "      <td>0.0</td>\n",
       "      <td>0.0</td>\n",
       "      <td>0.0</td>\n",
       "      <td>0.0</td>\n",
       "      <td>0.0</td>\n",
       "      <td>0.0</td>\n",
       "      <td>0.0</td>\n",
       "      <td>0.0</td>\n",
       "      <td>0.0</td>\n",
       "      <td>0.0</td>\n",
       "      <td>...</td>\n",
       "      <td>0.0</td>\n",
       "      <td>0.0</td>\n",
       "      <td>0.0</td>\n",
       "      <td>0.0</td>\n",
       "      <td>0.0</td>\n",
       "      <td>0.0</td>\n",
       "      <td>0.0</td>\n",
       "      <td>0.0</td>\n",
       "      <td>0.0</td>\n",
       "      <td>0.0</td>\n",
       "    </tr>\n",
       "  </tbody>\n",
       "</table>\n",
       "<p>5 rows × 1695 columns</p>\n",
       "</div>"
      ],
      "text/plain": [
       "Description  10 COLOUR SPACEBOY PEN  12 COLOURED PARTY BALLOONS  \\\n",
       "InvoiceNo                                                         \n",
       "536527                          0.0                         0.0   \n",
       "536840                          0.0                         0.0   \n",
       "536861                          0.0                         0.0   \n",
       "536967                          0.0                         0.0   \n",
       "536983                          0.0                         0.0   \n",
       "\n",
       "Description  12 IVORY ROSE PEG PLACE SETTINGS  \\\n",
       "InvoiceNo                                       \n",
       "536527                                    0.0   \n",
       "536840                                    0.0   \n",
       "536861                                    0.0   \n",
       "536967                                    0.0   \n",
       "536983                                    0.0   \n",
       "\n",
       "Description  12 MESSAGE CARDS WITH ENVELOPES  12 PENCIL SMALL TUBE WOODLAND  \\\n",
       "InvoiceNo                                                                     \n",
       "536527                                   0.0                            0.0   \n",
       "536840                                   0.0                            0.0   \n",
       "536861                                   0.0                            0.0   \n",
       "536967                                   0.0                            0.0   \n",
       "536983                                   0.0                            0.0   \n",
       "\n",
       "Description  12 PENCILS SMALL TUBE RED RETROSPOT  12 PENCILS SMALL TUBE SKULL  \\\n",
       "InvoiceNo                                                                       \n",
       "536527                                       0.0                          0.0   \n",
       "536840                                       0.0                          0.0   \n",
       "536861                                       0.0                          0.0   \n",
       "536967                                       0.0                          0.0   \n",
       "536983                                       0.0                          0.0   \n",
       "\n",
       "Description  12 PENCILS TALL TUBE POSY  12 PENCILS TALL TUBE RED RETROSPOT  \\\n",
       "InvoiceNo                                                                    \n",
       "536527                             0.0                                 0.0   \n",
       "536840                             0.0                                 0.0   \n",
       "536861                             0.0                                 0.0   \n",
       "536967                             0.0                                 0.0   \n",
       "536983                             0.0                                 0.0   \n",
       "\n",
       "Description  12 PENCILS TALL TUBE SKULLS  ...  YULETIDE IMAGES GIFT WRAP SET  \\\n",
       "InvoiceNo                                 ...                                  \n",
       "536527                               0.0  ...                            0.0   \n",
       "536840                               0.0  ...                            0.0   \n",
       "536861                               0.0  ...                            0.0   \n",
       "536967                               0.0  ...                            0.0   \n",
       "536983                               0.0  ...                            0.0   \n",
       "\n",
       "Description  ZINC  HEART T-LIGHT HOLDER  ZINC  STAR T-LIGHT HOLDER  \\\n",
       "InvoiceNo                                                            \n",
       "536527                              0.0                        0.0   \n",
       "536840                              0.0                        0.0   \n",
       "536861                              0.0                        0.0   \n",
       "536967                              0.0                        0.0   \n",
       "536983                              0.0                        0.0   \n",
       "\n",
       "Description  ZINC BOX SIGN HOME  ZINC FOLKART SLEIGH BELLS  \\\n",
       "InvoiceNo                                                    \n",
       "536527                      0.0                        0.0   \n",
       "536840                      0.0                        0.0   \n",
       "536861                      0.0                        0.0   \n",
       "536967                      0.0                        0.0   \n",
       "536983                      0.0                        0.0   \n",
       "\n",
       "Description  ZINC HEART LATTICE T-LIGHT HOLDER  ZINC METAL HEART DECORATION  \\\n",
       "InvoiceNo                                                                     \n",
       "536527                                     0.0                          0.0   \n",
       "536840                                     0.0                          0.0   \n",
       "536861                                     0.0                          0.0   \n",
       "536967                                     0.0                          0.0   \n",
       "536983                                     0.0                          0.0   \n",
       "\n",
       "Description  ZINC T-LIGHT HOLDER STAR LARGE  ZINC T-LIGHT HOLDER STARS SMALL  \\\n",
       "InvoiceNo                                                                      \n",
       "536527                                  0.0                              0.0   \n",
       "536840                                  0.0                              0.0   \n",
       "536861                                  0.0                              0.0   \n",
       "536967                                  0.0                              0.0   \n",
       "536983                                  0.0                              0.0   \n",
       "\n",
       "Description  ZINC WILLIE WINKIE  CANDLE STICK  \n",
       "InvoiceNo                                      \n",
       "536527                                    0.0  \n",
       "536840                                    0.0  \n",
       "536861                                    0.0  \n",
       "536967                                    0.0  \n",
       "536983                                    0.0  \n",
       "\n",
       "[5 rows x 1695 columns]"
      ]
     },
     "execution_count": 31,
     "metadata": {},
     "output_type": "execute_result"
    }
   ],
   "source": [
    "df_ShoppingCarts.head()"
   ]
  },
  {
   "cell_type": "code",
   "execution_count": 33,
   "id": "a0227d65",
   "metadata": {},
   "outputs": [
    {
     "data": {
      "text/plain": [
       "True"
      ]
     },
     "execution_count": 33,
     "metadata": {},
     "output_type": "execute_result"
    }
   ],
   "source": [
    "df_Retails.duplicated(subset=[\"InvoiceNo\"]).any() #查看InvoiceNo列是否有重复的值"
   ]
  },
  {
   "cell_type": "code",
   "execution_count": 43,
   "id": "a357fac3",
   "metadata": {},
   "outputs": [],
   "source": [
    "def encode_units(x):\n",
    "    if x <= 0:\n",
    "        return 0\n",
    "    if x >= 1:\n",
    "        return 1\n",
    "    \n",
    "df_ShoppingCarts_sets = df_ShoppingCarts.applymap(encode_units) #将这些项在数据框中转换为0/1形式"
   ]
  },
  {
   "cell_type": "code",
   "execution_count": 44,
   "id": "7bcc342a",
   "metadata": {},
   "outputs": [
    {
     "name": "stderr",
     "output_type": "stream",
     "text": [
      "C:\\Users\\JasonL\\AppData\\Roaming\\Python\\Python311\\site-packages\\mlxtend\\frequent_patterns\\fpcommon.py:109: DeprecationWarning: DataFrames with non-bool types result in worse computationalperformance and their support might be discontinued in the future.Please use a DataFrame with bool type\n",
      "  warnings.warn(\n"
     ]
    },
    {
     "data": {
      "text/html": [
       "<div>\n",
       "<style scoped>\n",
       "    .dataframe tbody tr th:only-of-type {\n",
       "        vertical-align: middle;\n",
       "    }\n",
       "\n",
       "    .dataframe tbody tr th {\n",
       "        vertical-align: top;\n",
       "    }\n",
       "\n",
       "    .dataframe thead th {\n",
       "        text-align: right;\n",
       "    }\n",
       "</style>\n",
       "<table border=\"1\" class=\"dataframe\">\n",
       "  <thead>\n",
       "    <tr style=\"text-align: right;\">\n",
       "      <th></th>\n",
       "      <th>support</th>\n",
       "      <th>itemsets</th>\n",
       "    </tr>\n",
       "  </thead>\n",
       "  <tbody>\n",
       "    <tr>\n",
       "      <th>0</th>\n",
       "      <td>0.102845</td>\n",
       "      <td>(6 RIBBONS RUSTIC CHARM)</td>\n",
       "    </tr>\n",
       "    <tr>\n",
       "      <th>1</th>\n",
       "      <td>0.070022</td>\n",
       "      <td>(ALARM CLOCK BAKELIKE PINK)</td>\n",
       "    </tr>\n",
       "    <tr>\n",
       "      <th>2</th>\n",
       "      <td>0.072210</td>\n",
       "      <td>(GUMBALL COAT RACK)</td>\n",
       "    </tr>\n",
       "    <tr>\n",
       "      <th>3</th>\n",
       "      <td>0.091904</td>\n",
       "      <td>(JAM MAKING SET PRINTED)</td>\n",
       "    </tr>\n",
       "    <tr>\n",
       "      <th>4</th>\n",
       "      <td>0.078775</td>\n",
       "      <td>(JUMBO BAG RED RETROSPOT)</td>\n",
       "    </tr>\n",
       "    <tr>\n",
       "      <th>5</th>\n",
       "      <td>0.100656</td>\n",
       "      <td>(JUMBO BAG WOODLAND ANIMALS)</td>\n",
       "    </tr>\n",
       "    <tr>\n",
       "      <th>6</th>\n",
       "      <td>0.078775</td>\n",
       "      <td>(LUNCH BAG WOODLAND)</td>\n",
       "    </tr>\n",
       "    <tr>\n",
       "      <th>7</th>\n",
       "      <td>0.085339</td>\n",
       "      <td>(PACK OF 72 RETROSPOT CAKE CASES)</td>\n",
       "    </tr>\n",
       "    <tr>\n",
       "      <th>8</th>\n",
       "      <td>0.115974</td>\n",
       "      <td>(PLASTERS IN TIN CIRCUS PARADE)</td>\n",
       "    </tr>\n",
       "    <tr>\n",
       "      <th>9</th>\n",
       "      <td>0.107221</td>\n",
       "      <td>(PLASTERS IN TIN SPACEBOY)</td>\n",
       "    </tr>\n",
       "    <tr>\n",
       "      <th>10</th>\n",
       "      <td>0.070022</td>\n",
       "      <td>(PLASTERS IN TIN STRONGMAN)</td>\n",
       "    </tr>\n",
       "    <tr>\n",
       "      <th>11</th>\n",
       "      <td>0.137856</td>\n",
       "      <td>(PLASTERS IN TIN WOODLAND ANIMALS)</td>\n",
       "    </tr>\n",
       "    <tr>\n",
       "      <th>12</th>\n",
       "      <td>0.818381</td>\n",
       "      <td>(POSTAGE)</td>\n",
       "    </tr>\n",
       "    <tr>\n",
       "      <th>13</th>\n",
       "      <td>0.070022</td>\n",
       "      <td>(RED RETROSPOT CHARLOTTE BAG)</td>\n",
       "    </tr>\n",
       "    <tr>\n",
       "      <th>14</th>\n",
       "      <td>0.070022</td>\n",
       "      <td>(RED RETROSPOT CUP)</td>\n",
       "    </tr>\n",
       "    <tr>\n",
       "      <th>15</th>\n",
       "      <td>0.096280</td>\n",
       "      <td>(RED TOADSTOOL LED NIGHT LIGHT)</td>\n",
       "    </tr>\n",
       "    <tr>\n",
       "      <th>16</th>\n",
       "      <td>0.137856</td>\n",
       "      <td>(REGENCY CAKESTAND 3 TIER)</td>\n",
       "    </tr>\n",
       "    <tr>\n",
       "      <th>17</th>\n",
       "      <td>0.157549</td>\n",
       "      <td>(ROUND SNACK BOXES SET OF 4 FRUITS)</td>\n",
       "    </tr>\n",
       "    <tr>\n",
       "      <th>18</th>\n",
       "      <td>0.245077</td>\n",
       "      <td>(ROUND SNACK BOXES SET OF4 WOODLAND)</td>\n",
       "    </tr>\n",
       "    <tr>\n",
       "      <th>19</th>\n",
       "      <td>0.070022</td>\n",
       "      <td>(SET OF 3 REGENCY CAKE TINS)</td>\n",
       "    </tr>\n",
       "    <tr>\n",
       "      <th>20</th>\n",
       "      <td>0.102845</td>\n",
       "      <td>(SPACEBOY LUNCH BOX)</td>\n",
       "    </tr>\n",
       "    <tr>\n",
       "      <th>21</th>\n",
       "      <td>0.078775</td>\n",
       "      <td>(STRAWBERRY LUNCH BOX WITH CUTLERY)</td>\n",
       "    </tr>\n",
       "    <tr>\n",
       "      <th>22</th>\n",
       "      <td>0.126915</td>\n",
       "      <td>(WOODLAND CHARLOTTE BAG)</td>\n",
       "    </tr>\n",
       "    <tr>\n",
       "      <th>23</th>\n",
       "      <td>0.091904</td>\n",
       "      <td>(6 RIBBONS RUSTIC CHARM, POSTAGE)</td>\n",
       "    </tr>\n",
       "    <tr>\n",
       "      <th>24</th>\n",
       "      <td>0.074398</td>\n",
       "      <td>(JAM MAKING SET PRINTED, POSTAGE)</td>\n",
       "    </tr>\n",
       "    <tr>\n",
       "      <th>25</th>\n",
       "      <td>0.087527</td>\n",
       "      <td>(POSTAGE, JUMBO BAG WOODLAND ANIMALS)</td>\n",
       "    </tr>\n",
       "    <tr>\n",
       "      <th>26</th>\n",
       "      <td>0.100656</td>\n",
       "      <td>(POSTAGE, PLASTERS IN TIN CIRCUS PARADE)</td>\n",
       "    </tr>\n",
       "    <tr>\n",
       "      <th>27</th>\n",
       "      <td>0.100656</td>\n",
       "      <td>(PLASTERS IN TIN SPACEBOY, POSTAGE)</td>\n",
       "    </tr>\n",
       "    <tr>\n",
       "      <th>28</th>\n",
       "      <td>0.118162</td>\n",
       "      <td>(POSTAGE, PLASTERS IN TIN WOODLAND ANIMALS)</td>\n",
       "    </tr>\n",
       "    <tr>\n",
       "      <th>29</th>\n",
       "      <td>0.074398</td>\n",
       "      <td>(ROUND SNACK BOXES SET OF4 WOODLAND, PLASTERS ...</td>\n",
       "    </tr>\n",
       "    <tr>\n",
       "      <th>30</th>\n",
       "      <td>0.080963</td>\n",
       "      <td>(POSTAGE, RED TOADSTOOL LED NIGHT LIGHT)</td>\n",
       "    </tr>\n",
       "    <tr>\n",
       "      <th>31</th>\n",
       "      <td>0.120350</td>\n",
       "      <td>(POSTAGE, REGENCY CAKESTAND 3 TIER)</td>\n",
       "    </tr>\n",
       "    <tr>\n",
       "      <th>32</th>\n",
       "      <td>0.150985</td>\n",
       "      <td>(POSTAGE, ROUND SNACK BOXES SET OF 4 FRUITS)</td>\n",
       "    </tr>\n",
       "    <tr>\n",
       "      <th>33</th>\n",
       "      <td>0.225383</td>\n",
       "      <td>(POSTAGE, ROUND SNACK BOXES SET OF4 WOODLAND)</td>\n",
       "    </tr>\n",
       "    <tr>\n",
       "      <th>34</th>\n",
       "      <td>0.091904</td>\n",
       "      <td>(SPACEBOY LUNCH BOX, POSTAGE)</td>\n",
       "    </tr>\n",
       "    <tr>\n",
       "      <th>35</th>\n",
       "      <td>0.115974</td>\n",
       "      <td>(POSTAGE, WOODLAND CHARLOTTE BAG)</td>\n",
       "    </tr>\n",
       "    <tr>\n",
       "      <th>36</th>\n",
       "      <td>0.131291</td>\n",
       "      <td>(ROUND SNACK BOXES SET OF4 WOODLAND, ROUND SNA...</td>\n",
       "    </tr>\n",
       "    <tr>\n",
       "      <th>37</th>\n",
       "      <td>0.070022</td>\n",
       "      <td>(SPACEBOY LUNCH BOX, ROUND SNACK BOXES SET OF4...</td>\n",
       "    </tr>\n",
       "    <tr>\n",
       "      <th>38</th>\n",
       "      <td>0.124726</td>\n",
       "      <td>(POSTAGE, ROUND SNACK BOXES SET OF4 WOODLAND, ...</td>\n",
       "    </tr>\n",
       "  </tbody>\n",
       "</table>\n",
       "</div>"
      ],
      "text/plain": [
       "     support                                           itemsets\n",
       "0   0.102845                           (6 RIBBONS RUSTIC CHARM)\n",
       "1   0.070022                        (ALARM CLOCK BAKELIKE PINK)\n",
       "2   0.072210                                (GUMBALL COAT RACK)\n",
       "3   0.091904                           (JAM MAKING SET PRINTED)\n",
       "4   0.078775                          (JUMBO BAG RED RETROSPOT)\n",
       "5   0.100656                       (JUMBO BAG WOODLAND ANIMALS)\n",
       "6   0.078775                               (LUNCH BAG WOODLAND)\n",
       "7   0.085339                  (PACK OF 72 RETROSPOT CAKE CASES)\n",
       "8   0.115974                    (PLASTERS IN TIN CIRCUS PARADE)\n",
       "9   0.107221                         (PLASTERS IN TIN SPACEBOY)\n",
       "10  0.070022                        (PLASTERS IN TIN STRONGMAN)\n",
       "11  0.137856                 (PLASTERS IN TIN WOODLAND ANIMALS)\n",
       "12  0.818381                                          (POSTAGE)\n",
       "13  0.070022                      (RED RETROSPOT CHARLOTTE BAG)\n",
       "14  0.070022                                (RED RETROSPOT CUP)\n",
       "15  0.096280                    (RED TOADSTOOL LED NIGHT LIGHT)\n",
       "16  0.137856                         (REGENCY CAKESTAND 3 TIER)\n",
       "17  0.157549                (ROUND SNACK BOXES SET OF 4 FRUITS)\n",
       "18  0.245077               (ROUND SNACK BOXES SET OF4 WOODLAND)\n",
       "19  0.070022                       (SET OF 3 REGENCY CAKE TINS)\n",
       "20  0.102845                               (SPACEBOY LUNCH BOX)\n",
       "21  0.078775                (STRAWBERRY LUNCH BOX WITH CUTLERY)\n",
       "22  0.126915                           (WOODLAND CHARLOTTE BAG)\n",
       "23  0.091904                  (6 RIBBONS RUSTIC CHARM, POSTAGE)\n",
       "24  0.074398                  (JAM MAKING SET PRINTED, POSTAGE)\n",
       "25  0.087527              (POSTAGE, JUMBO BAG WOODLAND ANIMALS)\n",
       "26  0.100656           (POSTAGE, PLASTERS IN TIN CIRCUS PARADE)\n",
       "27  0.100656                (PLASTERS IN TIN SPACEBOY, POSTAGE)\n",
       "28  0.118162        (POSTAGE, PLASTERS IN TIN WOODLAND ANIMALS)\n",
       "29  0.074398  (ROUND SNACK BOXES SET OF4 WOODLAND, PLASTERS ...\n",
       "30  0.080963           (POSTAGE, RED TOADSTOOL LED NIGHT LIGHT)\n",
       "31  0.120350                (POSTAGE, REGENCY CAKESTAND 3 TIER)\n",
       "32  0.150985       (POSTAGE, ROUND SNACK BOXES SET OF 4 FRUITS)\n",
       "33  0.225383      (POSTAGE, ROUND SNACK BOXES SET OF4 WOODLAND)\n",
       "34  0.091904                      (SPACEBOY LUNCH BOX, POSTAGE)\n",
       "35  0.115974                  (POSTAGE, WOODLAND CHARLOTTE BAG)\n",
       "36  0.131291  (ROUND SNACK BOXES SET OF4 WOODLAND, ROUND SNA...\n",
       "37  0.070022  (SPACEBOY LUNCH BOX, ROUND SNACK BOXES SET OF4...\n",
       "38  0.124726  (POSTAGE, ROUND SNACK BOXES SET OF4 WOODLAND, ..."
      ]
     },
     "execution_count": 44,
     "metadata": {},
     "output_type": "execute_result"
    }
   ],
   "source": [
    "df_Frequent_Itemsets = apriori(df_ShoppingCarts_sets\n",
    "                             , min_support = 0.07\n",
    "                             , use_colnames = True) #将最小支持度设定为0.07\n",
    "df_Frequent_Itemsets"
   ]
  },
  {
   "cell_type": "code",
   "execution_count": 45,
   "id": "97e92249",
   "metadata": {},
   "outputs": [
    {
     "data": {
      "text/plain": [
       "(39, 2)"
      ]
     },
     "execution_count": 45,
     "metadata": {},
     "output_type": "execute_result"
    }
   ],
   "source": [
    "df_Frequent_Itemsets.shape #查看数据框df_Frequent_Itemsets的形状"
   ]
  },
  {
   "cell_type": "code",
   "execution_count": 46,
   "id": "4c12ddf4",
   "metadata": {},
   "outputs": [
    {
     "data": {
      "text/html": [
       "<div>\n",
       "<style scoped>\n",
       "    .dataframe tbody tr th:only-of-type {\n",
       "        vertical-align: middle;\n",
       "    }\n",
       "\n",
       "    .dataframe tbody tr th {\n",
       "        vertical-align: top;\n",
       "    }\n",
       "\n",
       "    .dataframe thead th {\n",
       "        text-align: right;\n",
       "    }\n",
       "</style>\n",
       "<table border=\"1\" class=\"dataframe\">\n",
       "  <thead>\n",
       "    <tr style=\"text-align: right;\">\n",
       "      <th></th>\n",
       "      <th>antecedents</th>\n",
       "      <th>consequents</th>\n",
       "      <th>antecedent support</th>\n",
       "      <th>consequent support</th>\n",
       "      <th>support</th>\n",
       "      <th>confidence</th>\n",
       "      <th>lift</th>\n",
       "      <th>leverage</th>\n",
       "      <th>conviction</th>\n",
       "      <th>zhangs_metric</th>\n",
       "    </tr>\n",
       "  </thead>\n",
       "  <tbody>\n",
       "    <tr>\n",
       "      <th>0</th>\n",
       "      <td>(6 RIBBONS RUSTIC CHARM)</td>\n",
       "      <td>(POSTAGE)</td>\n",
       "      <td>0.102845</td>\n",
       "      <td>0.818381</td>\n",
       "      <td>0.091904</td>\n",
       "      <td>0.893617</td>\n",
       "      <td>1.091933</td>\n",
       "      <td>0.007738</td>\n",
       "      <td>1.707221</td>\n",
       "      <td>0.093844</td>\n",
       "    </tr>\n",
       "    <tr>\n",
       "      <th>1</th>\n",
       "      <td>(POSTAGE)</td>\n",
       "      <td>(6 RIBBONS RUSTIC CHARM)</td>\n",
       "      <td>0.818381</td>\n",
       "      <td>0.102845</td>\n",
       "      <td>0.091904</td>\n",
       "      <td>0.112299</td>\n",
       "      <td>1.091933</td>\n",
       "      <td>0.007738</td>\n",
       "      <td>1.010651</td>\n",
       "      <td>0.463569</td>\n",
       "    </tr>\n",
       "    <tr>\n",
       "      <th>2</th>\n",
       "      <td>(POSTAGE)</td>\n",
       "      <td>(JUMBO BAG WOODLAND ANIMALS)</td>\n",
       "      <td>0.818381</td>\n",
       "      <td>0.100656</td>\n",
       "      <td>0.087527</td>\n",
       "      <td>0.106952</td>\n",
       "      <td>1.062544</td>\n",
       "      <td>0.005152</td>\n",
       "      <td>1.007049</td>\n",
       "      <td>0.324096</td>\n",
       "    </tr>\n",
       "    <tr>\n",
       "      <th>3</th>\n",
       "      <td>(JUMBO BAG WOODLAND ANIMALS)</td>\n",
       "      <td>(POSTAGE)</td>\n",
       "      <td>0.100656</td>\n",
       "      <td>0.818381</td>\n",
       "      <td>0.087527</td>\n",
       "      <td>0.869565</td>\n",
       "      <td>1.062544</td>\n",
       "      <td>0.005152</td>\n",
       "      <td>1.392414</td>\n",
       "      <td>0.065450</td>\n",
       "    </tr>\n",
       "    <tr>\n",
       "      <th>4</th>\n",
       "      <td>(POSTAGE)</td>\n",
       "      <td>(PLASTERS IN TIN CIRCUS PARADE)</td>\n",
       "      <td>0.818381</td>\n",
       "      <td>0.115974</td>\n",
       "      <td>0.100656</td>\n",
       "      <td>0.122995</td>\n",
       "      <td>1.060539</td>\n",
       "      <td>0.005746</td>\n",
       "      <td>1.008006</td>\n",
       "      <td>0.314301</td>\n",
       "    </tr>\n",
       "  </tbody>\n",
       "</table>\n",
       "</div>"
      ],
      "text/plain": [
       "                    antecedents                      consequents  \\\n",
       "0      (6 RIBBONS RUSTIC CHARM)                        (POSTAGE)   \n",
       "1                     (POSTAGE)         (6 RIBBONS RUSTIC CHARM)   \n",
       "2                     (POSTAGE)     (JUMBO BAG WOODLAND ANIMALS)   \n",
       "3  (JUMBO BAG WOODLAND ANIMALS)                        (POSTAGE)   \n",
       "4                     (POSTAGE)  (PLASTERS IN TIN CIRCUS PARADE)   \n",
       "\n",
       "   antecedent support  consequent support   support  confidence      lift  \\\n",
       "0            0.102845            0.818381  0.091904    0.893617  1.091933   \n",
       "1            0.818381            0.102845  0.091904    0.112299  1.091933   \n",
       "2            0.818381            0.100656  0.087527    0.106952  1.062544   \n",
       "3            0.100656            0.818381  0.087527    0.869565  1.062544   \n",
       "4            0.818381            0.115974  0.100656    0.122995  1.060539   \n",
       "\n",
       "   leverage  conviction  zhangs_metric  \n",
       "0  0.007738    1.707221       0.093844  \n",
       "1  0.007738    1.010651       0.463569  \n",
       "2  0.005152    1.007049       0.324096  \n",
       "3  0.005152    1.392414       0.065450  \n",
       "4  0.005746    1.008006       0.314301  "
      ]
     },
     "execution_count": 46,
     "metadata": {},
     "output_type": "execute_result"
    }
   ],
   "source": [
    "df_AssociationRules = association_rules(df_Frequent_Itemsets, metric = \"lift\", min_threshold = 1) \n",
    "#将提升度（lift）作为度量计算关联规则，并设置阈值为1，表示计算具有正相关关系的关联规则\n",
    "df_AssociationRules.head()"
   ]
  },
  {
   "cell_type": "code",
   "execution_count": 47,
   "id": "b10e379b",
   "metadata": {},
   "outputs": [
    {
     "data": {
      "text/plain": [
       "(34, 10)"
      ]
     },
     "execution_count": 47,
     "metadata": {},
     "output_type": "execute_result"
    }
   ],
   "source": [
    "df_AssociationRules.shape"
   ]
  },
  {
   "cell_type": "code",
   "execution_count": 48,
   "id": "8765ba70",
   "metadata": {},
   "outputs": [
    {
     "data": {
      "text/html": [
       "<div>\n",
       "<style scoped>\n",
       "    .dataframe tbody tr th:only-of-type {\n",
       "        vertical-align: middle;\n",
       "    }\n",
       "\n",
       "    .dataframe tbody tr th {\n",
       "        vertical-align: top;\n",
       "    }\n",
       "\n",
       "    .dataframe thead th {\n",
       "        text-align: right;\n",
       "    }\n",
       "</style>\n",
       "<table border=\"1\" class=\"dataframe\">\n",
       "  <thead>\n",
       "    <tr style=\"text-align: right;\">\n",
       "      <th></th>\n",
       "      <th>antecedents</th>\n",
       "      <th>consequents</th>\n",
       "      <th>antecedent support</th>\n",
       "      <th>consequent support</th>\n",
       "      <th>support</th>\n",
       "      <th>confidence</th>\n",
       "      <th>lift</th>\n",
       "      <th>leverage</th>\n",
       "      <th>conviction</th>\n",
       "      <th>zhangs_metric</th>\n",
       "    </tr>\n",
       "  </thead>\n",
       "  <tbody>\n",
       "    <tr>\n",
       "      <th>25</th>\n",
       "      <td>(ROUND SNACK BOXES SET OF 4 FRUITS)</td>\n",
       "      <td>(ROUND SNACK BOXES SET OF4 WOODLAND)</td>\n",
       "      <td>0.157549</td>\n",
       "      <td>0.245077</td>\n",
       "      <td>0.131291</td>\n",
       "      <td>0.833333</td>\n",
       "      <td>3.400298</td>\n",
       "      <td>0.092679</td>\n",
       "      <td>4.52954</td>\n",
       "      <td>0.837922</td>\n",
       "    </tr>\n",
       "    <tr>\n",
       "      <th>29</th>\n",
       "      <td>(POSTAGE, ROUND SNACK BOXES SET OF 4 FRUITS)</td>\n",
       "      <td>(ROUND SNACK BOXES SET OF4 WOODLAND)</td>\n",
       "      <td>0.150985</td>\n",
       "      <td>0.245077</td>\n",
       "      <td>0.124726</td>\n",
       "      <td>0.826087</td>\n",
       "      <td>3.370730</td>\n",
       "      <td>0.087724</td>\n",
       "      <td>4.34081</td>\n",
       "      <td>0.828405</td>\n",
       "    </tr>\n",
       "  </tbody>\n",
       "</table>\n",
       "</div>"
      ],
      "text/plain": [
       "                                     antecedents  \\\n",
       "25           (ROUND SNACK BOXES SET OF 4 FRUITS)   \n",
       "29  (POSTAGE, ROUND SNACK BOXES SET OF 4 FRUITS)   \n",
       "\n",
       "                             consequents  antecedent support  \\\n",
       "25  (ROUND SNACK BOXES SET OF4 WOODLAND)            0.157549   \n",
       "29  (ROUND SNACK BOXES SET OF4 WOODLAND)            0.150985   \n",
       "\n",
       "    consequent support   support  confidence      lift  leverage  conviction  \\\n",
       "25            0.245077  0.131291    0.833333  3.400298  0.092679     4.52954   \n",
       "29            0.245077  0.124726    0.826087  3.370730  0.087724     4.34081   \n",
       "\n",
       "    zhangs_metric  \n",
       "25       0.837922  \n",
       "29       0.828405  "
      ]
     },
     "execution_count": 48,
     "metadata": {},
     "output_type": "execute_result"
    }
   ],
   "source": [
    "df_A = df_AssociationRules[(df_AssociationRules['lift'] > 2) & (df_AssociationRules['confidence'] >= 0.8)] \n",
    "#筛选提升度不小于2且置信度不小于0.8的关联规则\n",
    "df_A"
   ]
  },
  {
   "cell_type": "code",
   "execution_count": 49,
   "id": "a587c2f0",
   "metadata": {},
   "outputs": [
    {
     "data": {
      "image/png": "[encoded data removed]",
      "text/plain": [
       "<Figure size 640x480 with 1 Axes>"
      ]
     },
     "metadata": {},
     "output_type": "display_data"
    }
   ],
   "source": [
    "import matplotlib.pyplot as plt\n",
    " \n",
    "#将点的大小放大20倍\n",
    "plt.scatter(x = df_AssociationRules['support'], y = df_AssociationRules['confidence'], s = df_AssociationRules['lift'] * 20) \n",
    " \n",
    "plt.show()"
   ]
  },
  {
   "cell_type": "code",
   "execution_count": null,
   "id": "b89aad71",
   "metadata": {},
   "outputs": [],
   "source": []
  }
 ],
 "metadata": {
  "kernelspec": {
   "display_name": "Python 3 (ipykernel)",
   "language": "python",
   "name": "python3"
  },
  "language_info": {
   "codemirror_mode": {
    "name": "ipython",
    "version": 3
   },
   "file_extension": ".py",
   "mimetype": "text/x-python",
   "name": "python",
   "nbconvert_exporter": "python",
   "pygments_lexer": "ipython3",
   "version": "3.11.5"
  }
 },
 "nbformat": 4,
 "nbformat_minor": 5
}
