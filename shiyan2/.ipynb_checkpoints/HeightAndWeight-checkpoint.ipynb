{
 "cells": [
  {
   "cell_type": "code",
   "execution_count": 26,
   "id": "c0775a0c",
   "metadata": {},
   "outputs": [],
   "source": [
    "import pandas as pd\n",
    "import numpy as np\n",
    "import matplotlib.pyplot as plt\n",
    "import statsmodels.api as sm"
   ]
  },
  {
   "cell_type": "code",
   "execution_count": 4,
   "id": "6b5a7e44",
   "metadata": {},
   "outputs": [],
   "source": [
    "df_women = pd.read_csv('women.csv', index_col=0) #数据读入"
   ]
  },
  {
   "cell_type": "code",
   "execution_count": 5,
   "id": "402e32f5",
   "metadata": {},
   "outputs": [
    {
     "data": {
      "text/html": [
       "<div>\n",
       "<style scoped>\n",
       "    .dataframe tbody tr th:only-of-type {\n",
       "        vertical-align: middle;\n",
       "    }\n",
       "\n",
       "    .dataframe tbody tr th {\n",
       "        vertical-align: top;\n",
       "    }\n",
       "\n",
       "    .dataframe thead th {\n",
       "        text-align: right;\n",
       "    }\n",
       "</style>\n",
       "<table border=\"1\" class=\"dataframe\">\n",
       "  <thead>\n",
       "    <tr style=\"text-align: right;\">\n",
       "      <th></th>\n",
       "      <th>height</th>\n",
       "      <th>weight</th>\n",
       "    </tr>\n",
       "  </thead>\n",
       "  <tbody>\n",
       "    <tr>\n",
       "      <th>count</th>\n",
       "      <td>15.000000</td>\n",
       "      <td>15.000000</td>\n",
       "    </tr>\n",
       "    <tr>\n",
       "      <th>mean</th>\n",
       "      <td>65.000000</td>\n",
       "      <td>136.733333</td>\n",
       "    </tr>\n",
       "    <tr>\n",
       "      <th>std</th>\n",
       "      <td>4.472136</td>\n",
       "      <td>15.498694</td>\n",
       "    </tr>\n",
       "    <tr>\n",
       "      <th>min</th>\n",
       "      <td>58.000000</td>\n",
       "      <td>115.000000</td>\n",
       "    </tr>\n",
       "    <tr>\n",
       "      <th>25%</th>\n",
       "      <td>61.500000</td>\n",
       "      <td>124.500000</td>\n",
       "    </tr>\n",
       "    <tr>\n",
       "      <th>50%</th>\n",
       "      <td>65.000000</td>\n",
       "      <td>135.000000</td>\n",
       "    </tr>\n",
       "    <tr>\n",
       "      <th>75%</th>\n",
       "      <td>68.500000</td>\n",
       "      <td>148.000000</td>\n",
       "    </tr>\n",
       "    <tr>\n",
       "      <th>max</th>\n",
       "      <td>72.000000</td>\n",
       "      <td>164.000000</td>\n",
       "    </tr>\n",
       "  </tbody>\n",
       "</table>\n",
       "</div>"
      ],
      "text/plain": [
       "          height      weight\n",
       "count  15.000000   15.000000\n",
       "mean   65.000000  136.733333\n",
       "std     4.472136   15.498694\n",
       "min    58.000000  115.000000\n",
       "25%    61.500000  124.500000\n",
       "50%    65.000000  135.000000\n",
       "75%    68.500000  148.000000\n",
       "max    72.000000  164.000000"
      ]
     },
     "execution_count": 5,
     "metadata": {},
     "output_type": "execute_result"
    }
   ],
   "source": [
    "df_women.describe() #对数据框df_women进行探索性分析"
   ]
  },
  {
   "cell_type": "code",
   "execution_count": 6,
   "id": "0014e4bf",
   "metadata": {},
   "outputs": [
    {
     "data": {
      "text/plain": [
       "(15, 2)"
      ]
     },
     "execution_count": 6,
     "metadata": {},
     "output_type": "execute_result"
    }
   ],
   "source": [
    "df_women.shape"
   ]
  },
  {
   "cell_type": "code",
   "execution_count": 12,
   "id": "1b83a0f7",
   "metadata": {},
   "outputs": [
    {
     "data": {
      "text/plain": [
       "Text(0, 0.5, 'weight')"
      ]
     },
     "execution_count": 12,
     "metadata": {},
     "output_type": "execute_result"
    },
    {
     "data": {
      "image/png": "[encoded data removed]",
      "text/plain": [
       "<Figure size 640x480 with 1 Axes>"
      ]
     },
     "metadata": {},
     "output_type": "display_data"
    }
   ],
   "source": [
    "plt.scatter(df_women[\"height\"],df_women[\"weight\"])\n",
    "plt.xlabel(\"height\")\n",
    "plt.ylabel(\"weight\") #通过调用mayplotlib.pyplot包中的scatter()方法绘制散点图"
   ]
  },
  {
   "cell_type": "code",
   "execution_count": 13,
   "id": "cc55ec97",
   "metadata": {},
   "outputs": [],
   "source": [
    "X = df_women[\"height\"]\n",
    "y = df_women[\"weight\"] #准备好模型所需的特征矩阵（X）和目标向量（y）"
   ]
  },
  {
   "cell_type": "code",
   "execution_count": 14,
   "id": "5c95c8df",
   "metadata": {},
   "outputs": [
    {
     "data": {
      "text/html": [
       "<div>\n",
       "<style scoped>\n",
       "    .dataframe tbody tr th:only-of-type {\n",
       "        vertical-align: middle;\n",
       "    }\n",
       "\n",
       "    .dataframe tbody tr th {\n",
       "        vertical-align: top;\n",
       "    }\n",
       "\n",
       "    .dataframe thead th {\n",
       "        text-align: right;\n",
       "    }\n",
       "</style>\n",
       "<table border=\"1\" class=\"dataframe\">\n",
       "  <thead>\n",
       "    <tr style=\"text-align: right;\">\n",
       "      <th></th>\n",
       "      <th>const</th>\n",
       "      <th>height</th>\n",
       "    </tr>\n",
       "  </thead>\n",
       "  <tbody>\n",
       "    <tr>\n",
       "      <th>1</th>\n",
       "      <td>1.0</td>\n",
       "      <td>58</td>\n",
       "    </tr>\n",
       "    <tr>\n",
       "      <th>2</th>\n",
       "      <td>1.0</td>\n",
       "      <td>59</td>\n",
       "    </tr>\n",
       "    <tr>\n",
       "      <th>3</th>\n",
       "      <td>1.0</td>\n",
       "      <td>60</td>\n",
       "    </tr>\n",
       "    <tr>\n",
       "      <th>4</th>\n",
       "      <td>1.0</td>\n",
       "      <td>61</td>\n",
       "    </tr>\n",
       "    <tr>\n",
       "      <th>5</th>\n",
       "      <td>1.0</td>\n",
       "      <td>62</td>\n",
       "    </tr>\n",
       "    <tr>\n",
       "      <th>6</th>\n",
       "      <td>1.0</td>\n",
       "      <td>63</td>\n",
       "    </tr>\n",
       "    <tr>\n",
       "      <th>7</th>\n",
       "      <td>1.0</td>\n",
       "      <td>64</td>\n",
       "    </tr>\n",
       "    <tr>\n",
       "      <th>8</th>\n",
       "      <td>1.0</td>\n",
       "      <td>65</td>\n",
       "    </tr>\n",
       "    <tr>\n",
       "      <th>9</th>\n",
       "      <td>1.0</td>\n",
       "      <td>66</td>\n",
       "    </tr>\n",
       "    <tr>\n",
       "      <th>10</th>\n",
       "      <td>1.0</td>\n",
       "      <td>67</td>\n",
       "    </tr>\n",
       "    <tr>\n",
       "      <th>11</th>\n",
       "      <td>1.0</td>\n",
       "      <td>68</td>\n",
       "    </tr>\n",
       "    <tr>\n",
       "      <th>12</th>\n",
       "      <td>1.0</td>\n",
       "      <td>69</td>\n",
       "    </tr>\n",
       "    <tr>\n",
       "      <th>13</th>\n",
       "      <td>1.0</td>\n",
       "      <td>70</td>\n",
       "    </tr>\n",
       "    <tr>\n",
       "      <th>14</th>\n",
       "      <td>1.0</td>\n",
       "      <td>71</td>\n",
       "    </tr>\n",
       "    <tr>\n",
       "      <th>15</th>\n",
       "      <td>1.0</td>\n",
       "      <td>72</td>\n",
       "    </tr>\n",
       "  </tbody>\n",
       "</table>\n",
       "</div>"
      ],
      "text/plain": [
       "    const  height\n",
       "1     1.0      58\n",
       "2     1.0      59\n",
       "3     1.0      60\n",
       "4     1.0      61\n",
       "5     1.0      62\n",
       "6     1.0      63\n",
       "7     1.0      64\n",
       "8     1.0      65\n",
       "9     1.0      66\n",
       "10    1.0      67\n",
       "11    1.0      68\n",
       "12    1.0      69\n",
       "13    1.0      70\n",
       "14    1.0      71\n",
       "15    1.0      72"
      ]
     },
     "execution_count": 14,
     "metadata": {},
     "output_type": "execute_result"
    }
   ],
   "source": [
    "X_add_const = sm.add_constant(X)\n",
    "X_add_const"
   ]
  },
  {
   "cell_type": "code",
   "execution_count": 16,
   "id": "4ce57659",
   "metadata": {},
   "outputs": [],
   "source": [
    "myModel = sm.OLS(y, X_add_const) #使用OLS()方法进行简单线性回归"
   ]
  },
  {
   "cell_type": "code",
   "execution_count": 17,
   "id": "763711db",
   "metadata": {},
   "outputs": [
    {
     "name": "stdout",
     "output_type": "stream",
     "text": [
      "                            OLS Regression Results                            \n",
      "==============================================================================\n",
      "Dep. Variable:                 weight   R-squared:                       0.991\n",
      "Model:                            OLS   Adj. R-squared:                  0.990\n",
      "Method:                 Least Squares   F-statistic:                     1433.\n",
      "Date:                Wed, 20 Mar 2024   Prob (F-statistic):           1.09e-14\n",
      "Time:                        09:14:07   Log-Likelihood:                -26.541\n",
      "No. Observations:                  15   AIC:                             57.08\n",
      "Df Residuals:                      13   BIC:                             58.50\n",
      "Df Model:                           1                                         \n",
      "Covariance Type:            nonrobust                                         \n",
      "==============================================================================\n",
      "                 coef    std err          t      P>|t|      [0.025      0.975]\n",
      "------------------------------------------------------------------------------\n",
      "const        -87.5167      5.937    -14.741      0.000    -100.343     -74.691\n",
      "height         3.4500      0.091     37.855      0.000       3.253       3.647\n",
      "==============================================================================\n",
      "Omnibus:                        2.396   Durbin-Watson:                   0.315\n",
      "Prob(Omnibus):                  0.302   Jarque-Bera (JB):                1.660\n",
      "Skew:                           0.789   Prob(JB):                        0.436\n",
      "Kurtosis:                       2.596   Cond. No.                         982.\n",
      "==============================================================================\n",
      "\n",
      "Notes:\n",
      "[1] Standard Errors assume that the covariance matrix of the errors is correctly specified.\n"
     ]
    },
    {
     "name": "stderr",
     "output_type": "stream",
     "text": [
      "D:\\anaconda3\\Lib\\site-packages\\scipy\\stats\\_stats_py.py:1806: UserWarning: kurtosistest only valid for n>=20 ... continuing anyway, n=15\n",
      "  warnings.warn(\"kurtosistest only valid for n>=20 ... continuing \"\n"
     ]
    }
   ],
   "source": [
    "results = myModel.fit()\n",
    "print(results.summary()) #调用summary()方法显示回归拟合的结果"
   ]
  },
  {
   "cell_type": "code",
   "execution_count": 19,
   "id": "a0b83a84",
   "metadata": {},
   "outputs": [
    {
     "data": {
      "text/plain": [
       "const    -87.516667\n",
       "height     3.450000\n",
       "dtype: float64"
      ]
     },
     "execution_count": 19,
     "metadata": {},
     "output_type": "execute_result"
    }
   ],
   "source": [
    "results.params #调用params属性查看拟合结果的斜率和截距"
   ]
  },
  {
   "cell_type": "code",
   "execution_count": 25,
   "id": "c3fbac16",
   "metadata": {},
   "outputs": [
    {
     "data": {
      "text/plain": [
       "Text(0, 0.5, 'weight')"
      ]
     },
     "execution_count": 25,
     "metadata": {},
     "output_type": "execute_result"
    },
    {
     "data": {
      "image/png": "[encoded data removed]",
      "text/plain": [
       "<Figure size 640x480 with 1 Axes>"
      ]
     },
     "metadata": {},
     "output_type": "display_data"
    }
   ],
   "source": [
    "y_predict = results.params[0] + results.params[1] * df_women[\"height\"]\n",
    "plt.rcParams[\"font.family\"] = \"simHei\"\n",
    "plt.plot(df_women[\"height\"],df_women[\"weight\"],\"o\")\n",
    "plt.plot(df_women[\"height\"],y_predict)\n",
    "plt.xlabel(\"height\")\n",
    "plt.ylabel(\"weight\") #调用matplotlib.pyplot包中的plot()方法,通过可视化方法更直观地查看回归效果"
   ]
  },
  {
   "cell_type": "code",
   "execution_count": 27,
   "id": "ede01771",
   "metadata": {},
   "outputs": [],
   "source": [
    "X = np.column_stack((X, np.power(X,2), np.power(X,3))) #通过调用numpy库的column_stack()方法创建特征矩阵X"
   ]
  },
  {
   "cell_type": "code",
   "execution_count": 29,
   "id": "cc73becc",
   "metadata": {
    "scrolled": true
   },
   "outputs": [],
   "source": [
    "X_add_const = sm.add_constant(X)\n",
    "myModel_updated = sm.OLS(y,X_add_const) #通过sm.add_constant()方法保留多项式回归中的截距项"
   ]
  },
  {
   "cell_type": "code",
   "execution_count": 33,
   "id": "d5684dd8",
   "metadata": {},
   "outputs": [
    {
     "name": "stdout",
     "output_type": "stream",
     "text": [
      "                            OLS Regression Results                            \n",
      "==============================================================================\n",
      "Dep. Variable:                 weight   R-squared:                       1.000\n",
      "Model:                            OLS   Adj. R-squared:                  1.000\n",
      "Method:                 Least Squares   F-statistic:                 1.679e+04\n",
      "Date:                Wed, 20 Mar 2024   Prob (F-statistic):           2.07e-20\n",
      "Time:                        09:38:38   Log-Likelihood:                 1.3441\n",
      "No. Observations:                  15   AIC:                             5.312\n",
      "Df Residuals:                      11   BIC:                             8.144\n",
      "Df Model:                           3                                         \n",
      "Covariance Type:            nonrobust                                         \n",
      "==============================================================================\n",
      "                 coef    std err          t      P>|t|      [0.025      0.975]\n",
      "------------------------------------------------------------------------------\n",
      "const       -896.7476    294.575     -3.044      0.011   -1545.102    -248.393\n",
      "x1            46.4108     13.655      3.399      0.006      16.356      76.466\n",
      "x2            -0.7462      0.211     -3.544      0.005      -1.210      -0.283\n",
      "x3             0.0043      0.001      3.940      0.002       0.002       0.007\n",
      "==============================================================================\n",
      "Omnibus:                        0.028   Durbin-Watson:                   2.388\n",
      "Prob(Omnibus):                  0.986   Jarque-Bera (JB):                0.127\n",
      "Skew:                           0.049   Prob(JB):                        0.939\n",
      "Kurtosis:                       2.561   Cond. No.                     1.25e+09\n",
      "==============================================================================\n",
      "\n",
      "Notes:\n",
      "[1] Standard Errors assume that the covariance matrix of the errors is correctly specified.\n",
      "[2] The condition number is large, 1.25e+09. This might indicate that there are\n",
      "strong multicollinearity or other numerical problems.\n"
     ]
    },
    {
     "name": "stderr",
     "output_type": "stream",
     "text": [
      "D:\\anaconda3\\Lib\\site-packages\\scipy\\stats\\_stats_py.py:1806: UserWarning: kurtosistest only valid for n>=20 ... continuing anyway, n=15\n",
      "  warnings.warn(\"kurtosistest only valid for n>=20 ... continuing \"\n"
     ]
    }
   ],
   "source": [
    "results = myModel_updated.fit()\n",
    "print(results.summary()) #对自变量X_add_const和因变量y使用OLS()方法进行多项式回归"
   ]
  },
  {
   "cell_type": "code",
   "execution_count": 34,
   "id": "2fc7d812",
   "metadata": {},
   "outputs": [
    {
     "data": {
      "text/plain": [
       "0.999781693997936"
      ]
     },
     "execution_count": 34,
     "metadata": {},
     "output_type": "execute_result"
    }
   ],
   "source": [
    "results.rsquared #调用requared属性查看拟合结果的R^2"
   ]
  },
  {
   "cell_type": "code",
   "execution_count": 35,
   "id": "71587b62",
   "metadata": {},
   "outputs": [
    {
     "data": {
      "text/plain": [
       "array([114.63856209, 117.40676937, 120.18801264, 123.00780722,\n",
       "       125.89166846, 128.86511168, 131.95365223, 135.18280543,\n",
       "       138.57808662, 142.16501113, 145.9690943 , 150.01585147,\n",
       "       154.33079796, 158.93944911, 163.86732026])"
      ]
     },
     "execution_count": 35,
     "metadata": {},
     "output_type": "execute_result"
    }
   ],
   "source": [
    "y_predict_updated = results.predict() #使用该多项式回归模型进行体重预测并输出预测结果\n",
    "y_predict_updated"
   ]
  },
  {
   "cell_type": "code",
   "execution_count": 36,
   "id": "f7a5f93a",
   "metadata": {},
   "outputs": [
    {
     "data": {
      "text/plain": [
       "Text(0, 0.5, 'weight')"
      ]
     },
     "execution_count": 36,
     "metadata": {},
     "output_type": "execute_result"
    },
    {
     "data": {
      "image/png": "[encoded data removed]",
      "text/plain": [
       "<Figure size 640x480 with 1 Axes>"
      ]
     },
     "metadata": {},
     "output_type": "display_data"
    }
   ],
   "source": [
    "y_predict = (results.params[0] + results.params[1] * df_women[\"height\"]\n",
    "             + results.params[2] * df_women[\"height\"]**2 + results.params[3]*df_women[\"height\"]**3)\n",
    "# 多项式回归模型的可视化\n",
    "plt.plot(df_women[\"height\"],df_women[\"weight\"],\"o\")\n",
    "plt.plot(df_women[\"height\"],y_predict)\n",
    "plt.xlabel(\"height\")\n",
    "plt.ylabel(\"weight\")"
   ]
  },
  {
   "cell_type": "code",
   "execution_count": null,
   "id": "5ee531f2",
   "metadata": {},
   "outputs": [],
   "source": []
  }
 ],
 "metadata": {
  "kernelspec": {
   "display_name": "Python 3 (ipykernel)",
   "language": "python",
   "name": "python3"
  },
  "language_info": {
   "codemirror_mode": {
    "name": "ipython",
    "version": 3
   },
   "file_extension": ".py",
   "mimetype": "text/x-python",
   "name": "python",
   "nbconvert_exporter": "python",
   "pygments_lexer": "ipython3",
   "version": "3.11.5"
  }
 },
 "nbformat": 4,
 "nbformat_minor": 5
}
